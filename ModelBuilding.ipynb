{
 "cells": [
  {
   "cell_type": "code",
   "execution_count": 1,
   "metadata": {
    "id": "KjG6eiOTs4Wv"
   },
   "outputs": [],
   "source": [
    "import pandas as pd\n",
    "import numpy as np\n",
    "import matplotlib.pyplot as plt\n",
    "import seaborn as sns\n",
    "\n",
    "pd.set_option('display.max_columns', None)"
   ]
  },
  {
   "cell_type": "code",
   "execution_count": 2,
   "metadata": {
    "id": "Q0McD8Fzs4Ww"
   },
   "outputs": [],
   "source": [
    "df_train = pd.read_csv('train_bio.csv')\n",
    "df_test = pd.read_csv('test_bio.csv')"
   ]
  },
  {
   "cell_type": "code",
   "execution_count": 3,
   "metadata": {},
   "outputs": [],
   "source": [
    "X_train, y_train = df_train.drop(columns=['accuracy']), df_train['accuracy']\n",
    "X_test, y_test = df_test.drop(columns=['accuracy']), df_test['accuracy']"
   ]
  },
  {
   "cell_type": "markdown",
   "metadata": {},
   "source": [
    "### Try Logistic Regression with all features (full set of categorical features)"
   ]
  },
  {
   "cell_type": "code",
   "execution_count": 4,
   "metadata": {},
   "outputs": [],
   "source": [
    "# helper function to get cross-validation results\n",
    "from sklearn.compose import make_column_transformer, ColumnTransformer\n",
    "from sklearn.pipeline import Pipeline\n",
    "from sklearn.preprocessing import OneHotEncoder\n",
    "from sklearn.linear_model import LogisticRegression\n",
    "from sklearn.model_selection import cross_val_score, cross_validate\n",
    "from sklearn.metrics import classification_report, confusion_matrix\n",
    "\n",
    "def show_cv_results(model, x, y, cv=10):\n",
    "    scores = cross_validate(model, x, y, cv=cv, return_train_score=True)\n",
    "    print(\"Mean test score:\", scores[\"test_score\"].mean()) # mean test accuracy score\n",
    "    display(pd.DataFrame(scores))"
   ]
  },
  {
   "cell_type": "code",
   "execution_count": 5,
   "metadata": {},
   "outputs": [
    {
     "name": "stdout",
     "output_type": "stream",
     "text": [
      "Mean test score: 0.6730093966369932\n"
     ]
    },
    {
     "data": {
      "text/html": [
       "<div>\n",
       "<style scoped>\n",
       "    .dataframe tbody tr th:only-of-type {\n",
       "        vertical-align: middle;\n",
       "    }\n",
       "\n",
       "    .dataframe tbody tr th {\n",
       "        vertical-align: top;\n",
       "    }\n",
       "\n",
       "    .dataframe thead th {\n",
       "        text-align: right;\n",
       "    }\n",
       "</style>\n",
       "<table border=\"1\" class=\"dataframe\">\n",
       "  <thead>\n",
       "    <tr style=\"text-align: right;\">\n",
       "      <th></th>\n",
       "      <th>fit_time</th>\n",
       "      <th>score_time</th>\n",
       "      <th>test_score</th>\n",
       "      <th>train_score</th>\n",
       "    </tr>\n",
       "  </thead>\n",
       "  <tbody>\n",
       "    <tr>\n",
       "      <th>0</th>\n",
       "      <td>0.768132</td>\n",
       "      <td>0.068314</td>\n",
       "      <td>0.688427</td>\n",
       "      <td>0.855776</td>\n",
       "    </tr>\n",
       "    <tr>\n",
       "      <th>1</th>\n",
       "      <td>0.852824</td>\n",
       "      <td>0.073906</td>\n",
       "      <td>0.649852</td>\n",
       "      <td>0.827063</td>\n",
       "    </tr>\n",
       "    <tr>\n",
       "      <th>2</th>\n",
       "      <td>0.694296</td>\n",
       "      <td>0.074625</td>\n",
       "      <td>0.652819</td>\n",
       "      <td>0.851485</td>\n",
       "    </tr>\n",
       "    <tr>\n",
       "      <th>3</th>\n",
       "      <td>0.694249</td>\n",
       "      <td>0.066902</td>\n",
       "      <td>0.688427</td>\n",
       "      <td>0.829703</td>\n",
       "    </tr>\n",
       "    <tr>\n",
       "      <th>4</th>\n",
       "      <td>0.667143</td>\n",
       "      <td>0.070818</td>\n",
       "      <td>0.643917</td>\n",
       "      <td>0.821122</td>\n",
       "    </tr>\n",
       "    <tr>\n",
       "      <th>5</th>\n",
       "      <td>0.696257</td>\n",
       "      <td>0.060082</td>\n",
       "      <td>0.685460</td>\n",
       "      <td>0.856436</td>\n",
       "    </tr>\n",
       "    <tr>\n",
       "      <th>6</th>\n",
       "      <td>0.658811</td>\n",
       "      <td>0.055113</td>\n",
       "      <td>0.679525</td>\n",
       "      <td>0.848515</td>\n",
       "    </tr>\n",
       "    <tr>\n",
       "      <th>7</th>\n",
       "      <td>0.716804</td>\n",
       "      <td>0.078677</td>\n",
       "      <td>0.681548</td>\n",
       "      <td>0.828769</td>\n",
       "    </tr>\n",
       "    <tr>\n",
       "      <th>8</th>\n",
       "      <td>0.665480</td>\n",
       "      <td>0.075809</td>\n",
       "      <td>0.666667</td>\n",
       "      <td>0.853184</td>\n",
       "    </tr>\n",
       "    <tr>\n",
       "      <th>9</th>\n",
       "      <td>0.776156</td>\n",
       "      <td>0.055983</td>\n",
       "      <td>0.693452</td>\n",
       "      <td>0.854833</td>\n",
       "    </tr>\n",
       "  </tbody>\n",
       "</table>\n",
       "</div>"
      ],
      "text/plain": [
       "   fit_time  score_time  test_score  train_score\n",
       "0  0.768132    0.068314    0.688427     0.855776\n",
       "1  0.852824    0.073906    0.649852     0.827063\n",
       "2  0.694296    0.074625    0.652819     0.851485\n",
       "3  0.694249    0.066902    0.688427     0.829703\n",
       "4  0.667143    0.070818    0.643917     0.821122\n",
       "5  0.696257    0.060082    0.685460     0.856436\n",
       "6  0.658811    0.055113    0.679525     0.848515\n",
       "7  0.716804    0.078677    0.681548     0.828769\n",
       "8  0.665480    0.075809    0.666667     0.853184\n",
       "9  0.776156    0.055983    0.693452     0.854833"
      ]
     },
     "metadata": {},
     "output_type": "display_data"
    }
   ],
   "source": [
    "lr = LogisticRegression(max_iter=10000, solver=\"liblinear\")\n",
    "\n",
    "show_cv_results(lr, X_train, y_train)"
   ]
  },
  {
   "cell_type": "code",
   "execution_count": 6,
   "metadata": {
    "scrolled": true
   },
   "outputs": [
    {
     "name": "stdout",
     "output_type": "stream",
     "text": [
      "Mean test score: 0.6577011494252873\n"
     ]
    },
    {
     "data": {
      "text/html": [
       "<div>\n",
       "<style scoped>\n",
       "    .dataframe tbody tr th:only-of-type {\n",
       "        vertical-align: middle;\n",
       "    }\n",
       "\n",
       "    .dataframe tbody tr th {\n",
       "        vertical-align: top;\n",
       "    }\n",
       "\n",
       "    .dataframe thead th {\n",
       "        text-align: right;\n",
       "    }\n",
       "</style>\n",
       "<table border=\"1\" class=\"dataframe\">\n",
       "  <thead>\n",
       "    <tr style=\"text-align: right;\">\n",
       "      <th></th>\n",
       "      <th>fit_time</th>\n",
       "      <th>score_time</th>\n",
       "      <th>test_score</th>\n",
       "      <th>train_score</th>\n",
       "    </tr>\n",
       "  </thead>\n",
       "  <tbody>\n",
       "    <tr>\n",
       "      <th>0</th>\n",
       "      <td>0.377691</td>\n",
       "      <td>0.048449</td>\n",
       "      <td>0.634483</td>\n",
       "      <td>0.867488</td>\n",
       "    </tr>\n",
       "    <tr>\n",
       "      <th>1</th>\n",
       "      <td>0.274318</td>\n",
       "      <td>0.050047</td>\n",
       "      <td>0.655172</td>\n",
       "      <td>0.869029</td>\n",
       "    </tr>\n",
       "    <tr>\n",
       "      <th>2</th>\n",
       "      <td>0.339986</td>\n",
       "      <td>0.111539</td>\n",
       "      <td>0.620690</td>\n",
       "      <td>0.868259</td>\n",
       "    </tr>\n",
       "    <tr>\n",
       "      <th>3</th>\n",
       "      <td>0.352247</td>\n",
       "      <td>0.079706</td>\n",
       "      <td>0.659722</td>\n",
       "      <td>0.871440</td>\n",
       "    </tr>\n",
       "    <tr>\n",
       "      <th>4</th>\n",
       "      <td>0.303555</td>\n",
       "      <td>0.064205</td>\n",
       "      <td>0.645833</td>\n",
       "      <td>0.872209</td>\n",
       "    </tr>\n",
       "    <tr>\n",
       "      <th>5</th>\n",
       "      <td>0.270975</td>\n",
       "      <td>0.053287</td>\n",
       "      <td>0.611111</td>\n",
       "      <td>0.860662</td>\n",
       "    </tr>\n",
       "    <tr>\n",
       "      <th>6</th>\n",
       "      <td>0.270723</td>\n",
       "      <td>0.052996</td>\n",
       "      <td>0.729167</td>\n",
       "      <td>0.861432</td>\n",
       "    </tr>\n",
       "    <tr>\n",
       "      <th>7</th>\n",
       "      <td>0.303397</td>\n",
       "      <td>0.051845</td>\n",
       "      <td>0.673611</td>\n",
       "      <td>0.853734</td>\n",
       "    </tr>\n",
       "    <tr>\n",
       "      <th>8</th>\n",
       "      <td>0.269910</td>\n",
       "      <td>0.054442</td>\n",
       "      <td>0.659722</td>\n",
       "      <td>0.861432</td>\n",
       "    </tr>\n",
       "    <tr>\n",
       "      <th>9</th>\n",
       "      <td>0.267018</td>\n",
       "      <td>0.047506</td>\n",
       "      <td>0.687500</td>\n",
       "      <td>0.861432</td>\n",
       "    </tr>\n",
       "  </tbody>\n",
       "</table>\n",
       "</div>"
      ],
      "text/plain": [
       "   fit_time  score_time  test_score  train_score\n",
       "0  0.377691    0.048449    0.634483     0.867488\n",
       "1  0.274318    0.050047    0.655172     0.869029\n",
       "2  0.339986    0.111539    0.620690     0.868259\n",
       "3  0.352247    0.079706    0.659722     0.871440\n",
       "4  0.303555    0.064205    0.645833     0.872209\n",
       "5  0.270975    0.053287    0.611111     0.860662\n",
       "6  0.270723    0.052996    0.729167     0.861432\n",
       "7  0.303397    0.051845    0.673611     0.853734\n",
       "8  0.269910    0.054442    0.659722     0.861432\n",
       "9  0.267018    0.047506    0.687500     0.861432"
      ]
     },
     "metadata": {},
     "output_type": "display_data"
    }
   ],
   "source": [
    "show_cv_results(lr, X_test, y_test)"
   ]
  },
  {
   "cell_type": "code",
   "execution_count": 7,
   "metadata": {},
   "outputs": [
    {
     "data": {
      "text/html": [
       "<style>#sk-container-id-1 {color: black;background-color: white;}#sk-container-id-1 pre{padding: 0;}#sk-container-id-1 div.sk-toggleable {background-color: white;}#sk-container-id-1 label.sk-toggleable__label {cursor: pointer;display: block;width: 100%;margin-bottom: 0;padding: 0.3em;box-sizing: border-box;text-align: center;}#sk-container-id-1 label.sk-toggleable__label-arrow:before {content: \"▸\";float: left;margin-right: 0.25em;color: #696969;}#sk-container-id-1 label.sk-toggleable__label-arrow:hover:before {color: black;}#sk-container-id-1 div.sk-estimator:hover label.sk-toggleable__label-arrow:before {color: black;}#sk-container-id-1 div.sk-toggleable__content {max-height: 0;max-width: 0;overflow: hidden;text-align: left;background-color: #f0f8ff;}#sk-container-id-1 div.sk-toggleable__content pre {margin: 0.2em;color: black;border-radius: 0.25em;background-color: #f0f8ff;}#sk-container-id-1 input.sk-toggleable__control:checked~div.sk-toggleable__content {max-height: 200px;max-width: 100%;overflow: auto;}#sk-container-id-1 input.sk-toggleable__control:checked~label.sk-toggleable__label-arrow:before {content: \"▾\";}#sk-container-id-1 div.sk-estimator input.sk-toggleable__control:checked~label.sk-toggleable__label {background-color: #d4ebff;}#sk-container-id-1 div.sk-label input.sk-toggleable__control:checked~label.sk-toggleable__label {background-color: #d4ebff;}#sk-container-id-1 input.sk-hidden--visually {border: 0;clip: rect(1px 1px 1px 1px);clip: rect(1px, 1px, 1px, 1px);height: 1px;margin: -1px;overflow: hidden;padding: 0;position: absolute;width: 1px;}#sk-container-id-1 div.sk-estimator {font-family: monospace;background-color: #f0f8ff;border: 1px dotted black;border-radius: 0.25em;box-sizing: border-box;margin-bottom: 0.5em;}#sk-container-id-1 div.sk-estimator:hover {background-color: #d4ebff;}#sk-container-id-1 div.sk-parallel-item::after {content: \"\";width: 100%;border-bottom: 1px solid gray;flex-grow: 1;}#sk-container-id-1 div.sk-label:hover label.sk-toggleable__label {background-color: #d4ebff;}#sk-container-id-1 div.sk-serial::before {content: \"\";position: absolute;border-left: 1px solid gray;box-sizing: border-box;top: 0;bottom: 0;left: 50%;z-index: 0;}#sk-container-id-1 div.sk-serial {display: flex;flex-direction: column;align-items: center;background-color: white;padding-right: 0.2em;padding-left: 0.2em;position: relative;}#sk-container-id-1 div.sk-item {position: relative;z-index: 1;}#sk-container-id-1 div.sk-parallel {display: flex;align-items: stretch;justify-content: center;background-color: white;position: relative;}#sk-container-id-1 div.sk-item::before, #sk-container-id-1 div.sk-parallel-item::before {content: \"\";position: absolute;border-left: 1px solid gray;box-sizing: border-box;top: 0;bottom: 0;left: 50%;z-index: -1;}#sk-container-id-1 div.sk-parallel-item {display: flex;flex-direction: column;z-index: 1;position: relative;background-color: white;}#sk-container-id-1 div.sk-parallel-item:first-child::after {align-self: flex-end;width: 50%;}#sk-container-id-1 div.sk-parallel-item:last-child::after {align-self: flex-start;width: 50%;}#sk-container-id-1 div.sk-parallel-item:only-child::after {width: 0;}#sk-container-id-1 div.sk-dashed-wrapped {border: 1px dashed gray;margin: 0 0.4em 0.5em 0.4em;box-sizing: border-box;padding-bottom: 0.4em;background-color: white;}#sk-container-id-1 div.sk-label label {font-family: monospace;font-weight: bold;display: inline-block;line-height: 1.2em;}#sk-container-id-1 div.sk-label-container {text-align: center;}#sk-container-id-1 div.sk-container {/* jupyter's `normalize.less` sets `[hidden] { display: none; }` but bootstrap.min.css set `[hidden] { display: none !important; }` so we also need the `!important` here to be able to override the default hidden behavior on the sphinx rendered scikit-learn.org. See: https://github.com/scikit-learn/scikit-learn/issues/21755 */display: inline-block !important;position: relative;}#sk-container-id-1 div.sk-text-repr-fallback {display: none;}</style><div id=\"sk-container-id-1\" class=\"sk-top-container\"><div class=\"sk-text-repr-fallback\"><pre>Pipeline(steps=[(&#x27;selectkbest&#x27;,\n",
       "                 SelectKBest(k=35,\n",
       "                             score_func=&lt;function chi2 at 0x000001F94A416C10&gt;)),\n",
       "                (&#x27;logisticregression&#x27;,\n",
       "                 LogisticRegression(max_iter=10000, solver=&#x27;liblinear&#x27;))])</pre><b>In a Jupyter environment, please rerun this cell to show the HTML representation or trust the notebook. <br />On GitHub, the HTML representation is unable to render, please try loading this page with nbviewer.org.</b></div><div class=\"sk-container\" hidden><div class=\"sk-item sk-dashed-wrapped\"><div class=\"sk-label-container\"><div class=\"sk-label sk-toggleable\"><input class=\"sk-toggleable__control sk-hidden--visually\" id=\"sk-estimator-id-1\" type=\"checkbox\" ><label for=\"sk-estimator-id-1\" class=\"sk-toggleable__label sk-toggleable__label-arrow\">Pipeline</label><div class=\"sk-toggleable__content\"><pre>Pipeline(steps=[(&#x27;selectkbest&#x27;,\n",
       "                 SelectKBest(k=35,\n",
       "                             score_func=&lt;function chi2 at 0x000001F94A416C10&gt;)),\n",
       "                (&#x27;logisticregression&#x27;,\n",
       "                 LogisticRegression(max_iter=10000, solver=&#x27;liblinear&#x27;))])</pre></div></div></div><div class=\"sk-serial\"><div class=\"sk-item\"><div class=\"sk-estimator sk-toggleable\"><input class=\"sk-toggleable__control sk-hidden--visually\" id=\"sk-estimator-id-2\" type=\"checkbox\" ><label for=\"sk-estimator-id-2\" class=\"sk-toggleable__label sk-toggleable__label-arrow\">SelectKBest</label><div class=\"sk-toggleable__content\"><pre>SelectKBest(k=35, score_func=&lt;function chi2 at 0x000001F94A416C10&gt;)</pre></div></div></div><div class=\"sk-item\"><div class=\"sk-estimator sk-toggleable\"><input class=\"sk-toggleable__control sk-hidden--visually\" id=\"sk-estimator-id-3\" type=\"checkbox\" ><label for=\"sk-estimator-id-3\" class=\"sk-toggleable__label sk-toggleable__label-arrow\">LogisticRegression</label><div class=\"sk-toggleable__content\"><pre>LogisticRegression(max_iter=10000, solver=&#x27;liblinear&#x27;)</pre></div></div></div></div></div></div></div>"
      ],
      "text/plain": [
       "Pipeline(steps=[('selectkbest',\n",
       "                 SelectKBest(k=35,\n",
       "                             score_func=<function chi2 at 0x000001F94A416C10>)),\n",
       "                ('logisticregression',\n",
       "                 LogisticRegression(max_iter=10000, solver='liblinear'))])"
      ]
     },
     "execution_count": 7,
     "metadata": {},
     "output_type": "execute_result"
    }
   ],
   "source": [
    "from sklearn.feature_selection import SelectKBest, chi2\n",
    "from sklearn.pipeline import make_pipeline\n",
    "\n",
    "k = 35 # 35 is lowest we can go to get 62% test acc\n",
    "\n",
    "model_with_selection = make_pipeline(\n",
    "    SelectKBest(score_func=chi2, k=k),\n",
    "#     RandomForestClassifier(random_state = 42),\n",
    "    LogisticRegression(max_iter=10000, solver=\"liblinear\")\n",
    ")\n",
    "\n",
    "model_with_selection.fit(X_train, y_train)\n",
    "\n",
    "# train_pred = model_with_selection.predict(X_train_combined)\n",
    "# print(classification_report(y_train,train_pred))\n",
    "\n",
    "# test_pred = model_with_selection.predict(X_test_combined)\n",
    "# print(classification_report(y_test,test_pred))"
   ]
  },
  {
   "cell_type": "code",
   "execution_count": 8,
   "metadata": {},
   "outputs": [],
   "source": [
    "# Performance on the test set\n",
    "\n",
    "def score_model(model, x, y):\n",
    "    pred = model.predict(x)\n",
    "    print(classification_report(y, pred))\n",
    "\n",
    "    cm = confusion_matrix(y, pred)\n",
    "    columns = np.unique(y)\n",
    "    df_cm = pd.DataFrame(cm, index=columns, columns=columns)\n",
    "    ax = sns.heatmap(df_cm, cmap='Oranges', annot=True, fmt='g')\n",
    "    ax.set_xlabel(\"Predicted\")\n",
    "    ax.set_ylabel(\"Actual\")"
   ]
  },
  {
   "cell_type": "code",
   "execution_count": 9,
   "metadata": {},
   "outputs": [
    {
     "name": "stdout",
     "output_type": "stream",
     "text": [
      "              precision    recall  f1-score   support\n",
      "\n",
      "           0       0.69      0.91      0.79       959\n",
      "           1       0.52      0.21      0.30       484\n",
      "\n",
      "    accuracy                           0.67      1443\n",
      "   macro avg       0.61      0.56      0.54      1443\n",
      "weighted avg       0.64      0.67      0.62      1443\n",
      "\n"
     ]
    },
    {
     "data": {
      "image/png": "[encoded data removed]",
      "text/plain": [
       "<Figure size 640x480 with 2 Axes>"
      ]
     },
     "metadata": {},
     "output_type": "display_data"
    }
   ],
   "source": [
    "score_model(model_with_selection, X_test, y_test)"
   ]
  },
  {
   "cell_type": "markdown",
   "metadata": {},
   "source": [
    "### Hyperparameter Tuning for Logistic Regression"
   ]
  },
  {
   "cell_type": "code",
   "execution_count": 10,
   "metadata": {},
   "outputs": [
    {
     "data": {
      "text/html": [
       "<style>#sk-container-id-2 {color: black;background-color: white;}#sk-container-id-2 pre{padding: 0;}#sk-container-id-2 div.sk-toggleable {background-color: white;}#sk-container-id-2 label.sk-toggleable__label {cursor: pointer;display: block;width: 100%;margin-bottom: 0;padding: 0.3em;box-sizing: border-box;text-align: center;}#sk-container-id-2 label.sk-toggleable__label-arrow:before {content: \"▸\";float: left;margin-right: 0.25em;color: #696969;}#sk-container-id-2 label.sk-toggleable__label-arrow:hover:before {color: black;}#sk-container-id-2 div.sk-estimator:hover label.sk-toggleable__label-arrow:before {color: black;}#sk-container-id-2 div.sk-toggleable__content {max-height: 0;max-width: 0;overflow: hidden;text-align: left;background-color: #f0f8ff;}#sk-container-id-2 div.sk-toggleable__content pre {margin: 0.2em;color: black;border-radius: 0.25em;background-color: #f0f8ff;}#sk-container-id-2 input.sk-toggleable__control:checked~div.sk-toggleable__content {max-height: 200px;max-width: 100%;overflow: auto;}#sk-container-id-2 input.sk-toggleable__control:checked~label.sk-toggleable__label-arrow:before {content: \"▾\";}#sk-container-id-2 div.sk-estimator input.sk-toggleable__control:checked~label.sk-toggleable__label {background-color: #d4ebff;}#sk-container-id-2 div.sk-label input.sk-toggleable__control:checked~label.sk-toggleable__label {background-color: #d4ebff;}#sk-container-id-2 input.sk-hidden--visually {border: 0;clip: rect(1px 1px 1px 1px);clip: rect(1px, 1px, 1px, 1px);height: 1px;margin: -1px;overflow: hidden;padding: 0;position: absolute;width: 1px;}#sk-container-id-2 div.sk-estimator {font-family: monospace;background-color: #f0f8ff;border: 1px dotted black;border-radius: 0.25em;box-sizing: border-box;margin-bottom: 0.5em;}#sk-container-id-2 div.sk-estimator:hover {background-color: #d4ebff;}#sk-container-id-2 div.sk-parallel-item::after {content: \"\";width: 100%;border-bottom: 1px solid gray;flex-grow: 1;}#sk-container-id-2 div.sk-label:hover label.sk-toggleable__label {background-color: #d4ebff;}#sk-container-id-2 div.sk-serial::before {content: \"\";position: absolute;border-left: 1px solid gray;box-sizing: border-box;top: 0;bottom: 0;left: 50%;z-index: 0;}#sk-container-id-2 div.sk-serial {display: flex;flex-direction: column;align-items: center;background-color: white;padding-right: 0.2em;padding-left: 0.2em;position: relative;}#sk-container-id-2 div.sk-item {position: relative;z-index: 1;}#sk-container-id-2 div.sk-parallel {display: flex;align-items: stretch;justify-content: center;background-color: white;position: relative;}#sk-container-id-2 div.sk-item::before, #sk-container-id-2 div.sk-parallel-item::before {content: \"\";position: absolute;border-left: 1px solid gray;box-sizing: border-box;top: 0;bottom: 0;left: 50%;z-index: -1;}#sk-container-id-2 div.sk-parallel-item {display: flex;flex-direction: column;z-index: 1;position: relative;background-color: white;}#sk-container-id-2 div.sk-parallel-item:first-child::after {align-self: flex-end;width: 50%;}#sk-container-id-2 div.sk-parallel-item:last-child::after {align-self: flex-start;width: 50%;}#sk-container-id-2 div.sk-parallel-item:only-child::after {width: 0;}#sk-container-id-2 div.sk-dashed-wrapped {border: 1px dashed gray;margin: 0 0.4em 0.5em 0.4em;box-sizing: border-box;padding-bottom: 0.4em;background-color: white;}#sk-container-id-2 div.sk-label label {font-family: monospace;font-weight: bold;display: inline-block;line-height: 1.2em;}#sk-container-id-2 div.sk-label-container {text-align: center;}#sk-container-id-2 div.sk-container {/* jupyter's `normalize.less` sets `[hidden] { display: none; }` but bootstrap.min.css set `[hidden] { display: none !important; }` so we also need the `!important` here to be able to override the default hidden behavior on the sphinx rendered scikit-learn.org. See: https://github.com/scikit-learn/scikit-learn/issues/21755 */display: inline-block !important;position: relative;}#sk-container-id-2 div.sk-text-repr-fallback {display: none;}</style><div id=\"sk-container-id-2\" class=\"sk-top-container\"><div class=\"sk-text-repr-fallback\"><pre>GridSearchCV(cv=10,\n",
       "             estimator=LogisticRegression(max_iter=10000, solver=&#x27;liblinear&#x27;),\n",
       "             param_grid={&#x27;C&#x27;: array([1.e-03, 1.e-02, 1.e-01, 1.e+00, 1.e+01, 1.e+02, 1.e+03]),\n",
       "                         &#x27;penalty&#x27;: [&#x27;l1&#x27;, &#x27;l2&#x27;]},\n",
       "             scoring=&#x27;accuracy&#x27;)</pre><b>In a Jupyter environment, please rerun this cell to show the HTML representation or trust the notebook. <br />On GitHub, the HTML representation is unable to render, please try loading this page with nbviewer.org.</b></div><div class=\"sk-container\" hidden><div class=\"sk-item sk-dashed-wrapped\"><div class=\"sk-label-container\"><div class=\"sk-label sk-toggleable\"><input class=\"sk-toggleable__control sk-hidden--visually\" id=\"sk-estimator-id-4\" type=\"checkbox\" ><label for=\"sk-estimator-id-4\" class=\"sk-toggleable__label sk-toggleable__label-arrow\">GridSearchCV</label><div class=\"sk-toggleable__content\"><pre>GridSearchCV(cv=10,\n",
       "             estimator=LogisticRegression(max_iter=10000, solver=&#x27;liblinear&#x27;),\n",
       "             param_grid={&#x27;C&#x27;: array([1.e-03, 1.e-02, 1.e-01, 1.e+00, 1.e+01, 1.e+02, 1.e+03]),\n",
       "                         &#x27;penalty&#x27;: [&#x27;l1&#x27;, &#x27;l2&#x27;]},\n",
       "             scoring=&#x27;accuracy&#x27;)</pre></div></div></div><div class=\"sk-parallel\"><div class=\"sk-parallel-item\"><div class=\"sk-item\"><div class=\"sk-label-container\"><div class=\"sk-label sk-toggleable\"><input class=\"sk-toggleable__control sk-hidden--visually\" id=\"sk-estimator-id-5\" type=\"checkbox\" ><label for=\"sk-estimator-id-5\" class=\"sk-toggleable__label sk-toggleable__label-arrow\">estimator: LogisticRegression</label><div class=\"sk-toggleable__content\"><pre>LogisticRegression(max_iter=10000, solver=&#x27;liblinear&#x27;)</pre></div></div></div><div class=\"sk-serial\"><div class=\"sk-item\"><div class=\"sk-estimator sk-toggleable\"><input class=\"sk-toggleable__control sk-hidden--visually\" id=\"sk-estimator-id-6\" type=\"checkbox\" ><label for=\"sk-estimator-id-6\" class=\"sk-toggleable__label sk-toggleable__label-arrow\">LogisticRegression</label><div class=\"sk-toggleable__content\"><pre>LogisticRegression(max_iter=10000, solver=&#x27;liblinear&#x27;)</pre></div></div></div></div></div></div></div></div></div></div>"
      ],
      "text/plain": [
       "GridSearchCV(cv=10,\n",
       "             estimator=LogisticRegression(max_iter=10000, solver='liblinear'),\n",
       "             param_grid={'C': array([1.e-03, 1.e-02, 1.e-01, 1.e+00, 1.e+01, 1.e+02, 1.e+03]),\n",
       "                         'penalty': ['l1', 'l2']},\n",
       "             scoring='accuracy')"
      ]
     },
     "execution_count": 10,
     "metadata": {},
     "output_type": "execute_result"
    }
   ],
   "source": [
    "# https://towardsdatascience.com/tuning-the-hyperparameters-of-your-machine-learning-model-using-gridsearchcv-7fc2bb76ff27\n",
    "\n",
    "# Hyperparameter tuning\n",
    "from sklearn.model_selection import GridSearchCV\n",
    "\n",
    "# parameter grid\n",
    "parameters = {\n",
    "    'penalty' : ['l1','l2'], \n",
    "    'C'       : np.logspace(-3,3,7),\n",
    "#     'solver'  : ['newton-cg', 'lbfgs', 'liblinear'],\n",
    "}\n",
    "lr = LogisticRegression(max_iter=10000, solver='liblinear')\n",
    "clf = GridSearchCV(lr,                    # model\n",
    "                   param_grid = parameters,   # hyperparameters\n",
    "                   scoring='accuracy',        # metric for scoring\n",
    "                   cv=10)                     # number of folds\n",
    "clf.fit(X_train, y_train)"
   ]
  },
  {
   "cell_type": "code",
   "execution_count": 11,
   "metadata": {},
   "outputs": [],
   "source": [
    "# helper function to view grid search results\n",
    "\n",
    "def report_GridSearchCV_results(gs):\n",
    "    print(\"Best combination of hyperparams:\\n\", gs.best_params_, \"\\n\")\n",
    "    print(\"Best mean_test_score score:\\n\", gs.best_score_, \"\\n\")\n",
    "    \n",
    "    scores = []\n",
    "    for i in range(gs.n_splits_):\n",
    "        scores.append(gs.cv_results_['split{}_test_score'.format(i)][gs.best_index_])\n",
    "    print(\"Score by fold for best estimator:\\n\", scores, \"\\n\")"
   ]
  },
  {
   "cell_type": "code",
   "execution_count": 12,
   "metadata": {},
   "outputs": [
    {
     "name": "stdout",
     "output_type": "stream",
     "text": [
      "Best combination of hyperparams:\n",
      " {'C': 0.1, 'penalty': 'l2'} \n",
      "\n",
      "Best mean_test_score score:\n",
      " 0.6771760633036598 \n",
      "\n",
      "Score by fold for best estimator:\n",
      " [0.685459940652819, 0.6735905044510386, 0.6409495548961425, 0.658753709198813, 0.6379821958456974, 0.7062314540059347, 0.685459940652819, 0.6845238095238095, 0.6785714285714286, 0.7202380952380952] \n",
      "\n"
     ]
    }
   ],
   "source": [
    "report_GridSearchCV_results(clf)"
   ]
  },
  {
   "cell_type": "code",
   "execution_count": 13,
   "metadata": {},
   "outputs": [
    {
     "name": "stdout",
     "output_type": "stream",
     "text": [
      "              precision    recall  f1-score   support\n",
      "\n",
      "           0       0.70      0.90      0.79       959\n",
      "           1       0.54      0.23      0.32       484\n",
      "\n",
      "    accuracy                           0.68      1443\n",
      "   macro avg       0.62      0.57      0.56      1443\n",
      "weighted avg       0.65      0.68      0.63      1443\n",
      "\n"
     ]
    },
    {
     "data": {
      "image/png": "[encoded data removed]",
      "text/plain": [
       "<Figure size 640x480 with 2 Axes>"
      ]
     },
     "metadata": {},
     "output_type": "display_data"
    }
   ],
   "source": [
    "score_model(clf, X_test, y_test)"
   ]
  },
  {
   "cell_type": "markdown",
   "metadata": {
    "id": "ZyspTeUAs4XB"
   },
   "source": [
    "##### Scale the claimer's age and number of years in position"
   ]
  },
  {
   "cell_type": "markdown",
   "metadata": {},
   "source": [
    "<div class=\"alert alert-warning\">\n",
    "    \n",
    "- Since we KIV `years in position` so there is no need to scale age since it's the only numerical feature remaining"
   ]
  },
  {
   "cell_type": "code",
   "execution_count": 14,
   "metadata": {},
   "outputs": [],
   "source": [
    "# def yearsago(years, from_date=None):\n",
    "#     if from_date is None:\n",
    "#         from_date = datetime.now()\n",
    "#     try:\n",
    "#         return from_date.replace(year=from_date.year - years)\n",
    "#     except ValueError:\n",
    "#         # Must be 2/29!\n",
    "#         assert from_date.month == 2 and from_date.day == 29 # can be removed\n",
    "#         return from_date.replace(month=2, day=28,\n",
    "#                                  year=from_date.year-years)\n",
    "# def num_years(begin, end=None):\n",
    "#     '''Takes in two datetime objects and returns the number of years between them'''\n",
    "#     if end is None:\n",
    "#         end = datetime.now()\n",
    "#     num_years = int((end - begin).days / 365.2425)\n",
    "#     if begin > yearsago(num_years, end):\n",
    "#         return num_years - 1\n",
    "#     else:\n",
    "#         return num_years\n",
    "\n",
    "# df2['years in position'] = df2.apply(lambda row: num_years(row['start formatted'], row['claim date formatted']), axis=1)"
   ]
  },
  {
   "cell_type": "code",
   "execution_count": 15,
   "metadata": {},
   "outputs": [],
   "source": [
    "# plt.figure(figsize=(8,6))\n",
    "# df2[['claimmer age', 'years in position']].boxplot()\n",
    "# plt.title('Before scaling numerical variables')"
   ]
  },
  {
   "cell_type": "code",
   "execution_count": 16,
   "metadata": {},
   "outputs": [],
   "source": [
    "# from sklearn.preprocessing import StandardScaler\n",
    "# standard_scaler = StandardScaler()\n",
    "\n",
    "# numerical_variables = ['claimmer age', 'years in position']\n",
    "# df2[['claimmer age standard scaled', 'years in position standard scaled']] = standard_scaler.fit_transform(df2[numerical_variables])"
   ]
  },
  {
   "cell_type": "code",
   "execution_count": 17,
   "metadata": {},
   "outputs": [],
   "source": [
    "# plt.figure(figsize=(8,6))\n",
    "# df2[['claimmer age standard scaled', 'years in position standard scaled']].boxplot()\n",
    "# plt.title('After scaling numerical variables')"
   ]
  },
  {
   "cell_type": "code",
   "execution_count": 18,
   "metadata": {
    "id": "jGI3iynEs4XC"
   },
   "outputs": [],
   "source": [
    "# age_arr = df2['claimmer age standard scaled'].values.reshape(-1,1) #need reshape to 2D else error when stacking\n",
    "# yop_arr = df2['years in position standard scaled'].values.reshape(-1,1)"
   ]
  },
  {
   "cell_type": "markdown",
   "metadata": {},
   "source": [
    "#### Age"
   ]
  },
  {
   "cell_type": "code",
   "execution_count": 20,
   "metadata": {},
   "outputs": [],
   "source": [
    "age_vec_train = X_train['claimer_age'].reset_index().to_numpy()\n",
    "age_vec_test = X_test['claimer_age'].reset_index().to_numpy()"
   ]
  },
  {
   "cell_type": "markdown",
   "metadata": {
    "id": "x1Cf5Tyrs4XC"
   },
   "source": [
    "## Modelling"
   ]
  },
  {
   "cell_type": "code",
   "execution_count": 21,
   "metadata": {
    "id": "p3LBXC05s4XD"
   },
   "outputs": [],
   "source": [
    "# # X = np.hstack([age_arr,src_vec.toarray(),issue_vec.toarray(),states_vec.toarray(),yop_arr,claim_vec.toarray()])\n",
    "# X_train_vec = np.hstack([src_vec_train.toarray(),issue_vec_train.toarray(),states_vec_train.toarray(),claim_vec_train.toarray()])\n",
    "# X_test_vec = np.hstack([src_vec_test.toarray(),issue_vec_test.toarray(),states_vec_test.toarray(),claim_vec_test.toarray()])\n",
    "# # y = df2['accuracy']"
   ]
  },
  {
   "cell_type": "markdown",
   "metadata": {
    "id": "Ebw7CtFjs4XD"
   },
   "source": [
    "Features all surrounding the claimer's name(**DON'T USE**, cause overfitting):\n",
    "'name',\n",
    "full name',\n",
    "'name.first',\n",
    "'name.middle',\n",
    "'name.last',\n",
    "'id.wikipedia', \n",
    " \n",
    "Features Untouched:\n",
    "- 'id.bioguide'(**not useful as it is a unique id**),\n",
    "- 'bio.gender'\n",
    "- 'type',\n",
    "- 'party',\n",
    "- 'end',\n",
    "\n",
    "Labels:\n",
    "'accuracy rating', \n",
    "'accuracy',\n",
    "\n",
    "Used:\n",
    "- 'claim source' -> 'source',\n",
    "- 'state',\n",
    "- 'issue',\n",
    "- 'claim date' -> claim date formatted', 'bio.birthday' -> 'birthdate formatted' -> \n",
    "- 'claimmer age' -> 'claimmer age scaled',\n",
    "- 'start',\n",
    "- 'claim'"
   ]
  },
  {
   "cell_type": "markdown",
   "metadata": {},
   "source": [
    "### RandomForest Baseline Model with all features"
   ]
  },
  {
   "cell_type": "code",
   "execution_count": 22,
   "metadata": {
    "id": "imYOQBiss4XD",
    "outputId": "ec7e2300-8894-49ff-913a-7407e3e75a44"
   },
   "outputs": [
    {
     "name": "stdout",
     "output_type": "stream",
     "text": [
      "Training Accuracy:  1.0\n",
      "              precision    recall  f1-score   support\n",
      "\n",
      "           0       1.00      1.00      1.00      2236\n",
      "           1       1.00      1.00      1.00      1131\n",
      "\n",
      "    accuracy                           1.00      3367\n",
      "   macro avg       1.00      1.00      1.00      3367\n",
      "weighted avg       1.00      1.00      1.00      3367\n",
      "\n",
      "[[2236    0]\n",
      " [   0 1131]]\n",
      "\n",
      "Test Accuracy:  0.6673596673596673\n",
      "              precision    recall  f1-score   support\n",
      "\n",
      "           0       0.68      0.93      0.79       959\n",
      "           1       0.52      0.14      0.22       484\n",
      "\n",
      "    accuracy                           0.67      1443\n",
      "   macro avg       0.60      0.54      0.50      1443\n",
      "weighted avg       0.63      0.67      0.60      1443\n",
      "\n",
      "[[895  64]\n",
      " [416  68]]\n"
     ]
    }
   ],
   "source": [
    "from sklearn.ensemble import RandomForestClassifier\n",
    "from sklearn.metrics import classification_report, confusion_matrix\n",
    "from sklearn import metrics\n",
    "\n",
    "clf = RandomForestClassifier(random_state=42, n_estimators=100)\n",
    "# clf = RandomForestClassifier(random_state=42)\n",
    "# clf.fit(X_train_vec, y_train)\n",
    "clf.fit(X_train, y_train)\n",
    "        \n",
    "# y_train_pred = clf.predict(X_train_vec)\n",
    "y_train_pred = clf.predict(X_train)\n",
    "print('Training Accuracy: ', metrics.accuracy_score(y_train, y_train_pred))\n",
    "print(classification_report(y_train,y_train_pred))\n",
    "print(confusion_matrix(y_train,y_train_pred))\n",
    "print()\n",
    "# y_test_pred = clf.predict(X_test_vec)\n",
    "y_test_pred = clf.predict(X_test)\n",
    "print('Test Accuracy: ', metrics.accuracy_score(y_test, y_test_pred))\n",
    "print(classification_report(y_test,y_test_pred))\n",
    "print(confusion_matrix(y_test,y_test_pred))"
   ]
  },
  {
   "cell_type": "markdown",
   "metadata": {},
   "source": [
    "### Hyperparameter tuning for RandomForest"
   ]
  },
  {
   "cell_type": "markdown",
   "metadata": {},
   "source": [
    "#### RandomizedSearchCV"
   ]
  },
  {
   "cell_type": "code",
   "execution_count": 23,
   "metadata": {},
   "outputs": [
    {
     "name": "stdout",
     "output_type": "stream",
     "text": [
      "Best combination of hyperparams:\n",
      " {'n_estimators': 200, 'min_samples_split': 10, 'min_samples_leaf': 2, 'max_depth': 60, 'bootstrap': False} \n",
      "\n",
      "Best mean_test_score score:\n",
      " 0.6768607980173639 \n",
      "\n",
      "Score by fold for best estimator:\n",
      " [0.686553873552983, 0.6684491978609626, 0.6755793226381461] \n",
      "\n"
     ]
    }
   ],
   "source": [
    "# randomised search\n",
    "\n",
    "from sklearn.model_selection import RandomizedSearchCV\n",
    "import warnings\n",
    "warnings.filterwarnings(\"ignore\")\n",
    "\n",
    "distributions = {'bootstrap': [True, False],\n",
    "#  'max_depth': [10, 20, 30, 40, 50, 60, 70, 80, 90, 100, None],\n",
    " 'max_depth': [10, 20, 30, 40, 50, 60, 70, 80, 90, 100],\n",
    "#  'max_features': ['auto', 'sqrt'],\n",
    " 'min_samples_leaf': [1, 2, 4, 6],\n",
    " 'min_samples_split': [2, 5, 10],\n",
    " 'n_estimators': [200, 400, 600, 800, 1000, 1200, 1400, 1600]}\n",
    "#  'n_estimators': [200, 400, 600, 800, 1000, 1200, 1400, 1600, 1800, 2000]}\n",
    "rf = RandomForestClassifier(random_state=42)\n",
    "rf_random = RandomizedSearchCV(estimator = rf, param_distributions = distributions, cv = 3, n_jobs = 2)\n",
    "rf_random.fit(X_train, y_train)\n",
    "\n",
    "report_GridSearchCV_results(rf_random)"
   ]
  },
  {
   "cell_type": "code",
   "execution_count": 24,
   "metadata": {},
   "outputs": [
    {
     "name": "stdout",
     "output_type": "stream",
     "text": [
      "              precision    recall  f1-score   support\n",
      "\n",
      "           0       0.69      0.94      0.80       959\n",
      "           1       0.57      0.14      0.23       484\n",
      "\n",
      "    accuracy                           0.68      1443\n",
      "   macro avg       0.63      0.54      0.51      1443\n",
      "weighted avg       0.65      0.68      0.61      1443\n",
      "\n"
     ]
    },
    {
     "data": {
      "image/png": "[encoded data removed]",
      "text/plain": [
       "<Figure size 640x480 with 2 Axes>"
      ]
     },
     "metadata": {},
     "output_type": "display_data"
    }
   ],
   "source": [
    "score_model(rf_random, X_test, y_test)"
   ]
  },
  {
   "cell_type": "markdown",
   "metadata": {},
   "source": [
    "#### GridSearchCV"
   ]
  },
  {
   "cell_type": "code",
   "execution_count": 25,
   "metadata": {},
   "outputs": [
    {
     "data": {
      "text/html": [
       "<style>#sk-container-id-3 {color: black;background-color: white;}#sk-container-id-3 pre{padding: 0;}#sk-container-id-3 div.sk-toggleable {background-color: white;}#sk-container-id-3 label.sk-toggleable__label {cursor: pointer;display: block;width: 100%;margin-bottom: 0;padding: 0.3em;box-sizing: border-box;text-align: center;}#sk-container-id-3 label.sk-toggleable__label-arrow:before {content: \"▸\";float: left;margin-right: 0.25em;color: #696969;}#sk-container-id-3 label.sk-toggleable__label-arrow:hover:before {color: black;}#sk-container-id-3 div.sk-estimator:hover label.sk-toggleable__label-arrow:before {color: black;}#sk-container-id-3 div.sk-toggleable__content {max-height: 0;max-width: 0;overflow: hidden;text-align: left;background-color: #f0f8ff;}#sk-container-id-3 div.sk-toggleable__content pre {margin: 0.2em;color: black;border-radius: 0.25em;background-color: #f0f8ff;}#sk-container-id-3 input.sk-toggleable__control:checked~div.sk-toggleable__content {max-height: 200px;max-width: 100%;overflow: auto;}#sk-container-id-3 input.sk-toggleable__control:checked~label.sk-toggleable__label-arrow:before {content: \"▾\";}#sk-container-id-3 div.sk-estimator input.sk-toggleable__control:checked~label.sk-toggleable__label {background-color: #d4ebff;}#sk-container-id-3 div.sk-label input.sk-toggleable__control:checked~label.sk-toggleable__label {background-color: #d4ebff;}#sk-container-id-3 input.sk-hidden--visually {border: 0;clip: rect(1px 1px 1px 1px);clip: rect(1px, 1px, 1px, 1px);height: 1px;margin: -1px;overflow: hidden;padding: 0;position: absolute;width: 1px;}#sk-container-id-3 div.sk-estimator {font-family: monospace;background-color: #f0f8ff;border: 1px dotted black;border-radius: 0.25em;box-sizing: border-box;margin-bottom: 0.5em;}#sk-container-id-3 div.sk-estimator:hover {background-color: #d4ebff;}#sk-container-id-3 div.sk-parallel-item::after {content: \"\";width: 100%;border-bottom: 1px solid gray;flex-grow: 1;}#sk-container-id-3 div.sk-label:hover label.sk-toggleable__label {background-color: #d4ebff;}#sk-container-id-3 div.sk-serial::before {content: \"\";position: absolute;border-left: 1px solid gray;box-sizing: border-box;top: 0;bottom: 0;left: 50%;z-index: 0;}#sk-container-id-3 div.sk-serial {display: flex;flex-direction: column;align-items: center;background-color: white;padding-right: 0.2em;padding-left: 0.2em;position: relative;}#sk-container-id-3 div.sk-item {position: relative;z-index: 1;}#sk-container-id-3 div.sk-parallel {display: flex;align-items: stretch;justify-content: center;background-color: white;position: relative;}#sk-container-id-3 div.sk-item::before, #sk-container-id-3 div.sk-parallel-item::before {content: \"\";position: absolute;border-left: 1px solid gray;box-sizing: border-box;top: 0;bottom: 0;left: 50%;z-index: -1;}#sk-container-id-3 div.sk-parallel-item {display: flex;flex-direction: column;z-index: 1;position: relative;background-color: white;}#sk-container-id-3 div.sk-parallel-item:first-child::after {align-self: flex-end;width: 50%;}#sk-container-id-3 div.sk-parallel-item:last-child::after {align-self: flex-start;width: 50%;}#sk-container-id-3 div.sk-parallel-item:only-child::after {width: 0;}#sk-container-id-3 div.sk-dashed-wrapped {border: 1px dashed gray;margin: 0 0.4em 0.5em 0.4em;box-sizing: border-box;padding-bottom: 0.4em;background-color: white;}#sk-container-id-3 div.sk-label label {font-family: monospace;font-weight: bold;display: inline-block;line-height: 1.2em;}#sk-container-id-3 div.sk-label-container {text-align: center;}#sk-container-id-3 div.sk-container {/* jupyter's `normalize.less` sets `[hidden] { display: none; }` but bootstrap.min.css set `[hidden] { display: none !important; }` so we also need the `!important` here to be able to override the default hidden behavior on the sphinx rendered scikit-learn.org. See: https://github.com/scikit-learn/scikit-learn/issues/21755 */display: inline-block !important;position: relative;}#sk-container-id-3 div.sk-text-repr-fallback {display: none;}</style><div id=\"sk-container-id-3\" class=\"sk-top-container\"><div class=\"sk-text-repr-fallback\"><pre>GridSearchCV(cv=10, estimator=RandomForestClassifier(random_state=42),\n",
       "             param_grid={&#x27;criterion&#x27;: [&#x27;gini&#x27;, &#x27;entropy&#x27;],\n",
       "                         &#x27;max_depth&#x27;: [5, 50, 75, 100],\n",
       "                         &#x27;min_samples_split&#x27;: [12, 16, 20]},\n",
       "             scoring=&#x27;accuracy&#x27;)</pre><b>In a Jupyter environment, please rerun this cell to show the HTML representation or trust the notebook. <br />On GitHub, the HTML representation is unable to render, please try loading this page with nbviewer.org.</b></div><div class=\"sk-container\" hidden><div class=\"sk-item sk-dashed-wrapped\"><div class=\"sk-label-container\"><div class=\"sk-label sk-toggleable\"><input class=\"sk-toggleable__control sk-hidden--visually\" id=\"sk-estimator-id-7\" type=\"checkbox\" ><label for=\"sk-estimator-id-7\" class=\"sk-toggleable__label sk-toggleable__label-arrow\">GridSearchCV</label><div class=\"sk-toggleable__content\"><pre>GridSearchCV(cv=10, estimator=RandomForestClassifier(random_state=42),\n",
       "             param_grid={&#x27;criterion&#x27;: [&#x27;gini&#x27;, &#x27;entropy&#x27;],\n",
       "                         &#x27;max_depth&#x27;: [5, 50, 75, 100],\n",
       "                         &#x27;min_samples_split&#x27;: [12, 16, 20]},\n",
       "             scoring=&#x27;accuracy&#x27;)</pre></div></div></div><div class=\"sk-parallel\"><div class=\"sk-parallel-item\"><div class=\"sk-item\"><div class=\"sk-label-container\"><div class=\"sk-label sk-toggleable\"><input class=\"sk-toggleable__control sk-hidden--visually\" id=\"sk-estimator-id-8\" type=\"checkbox\" ><label for=\"sk-estimator-id-8\" class=\"sk-toggleable__label sk-toggleable__label-arrow\">estimator: RandomForestClassifier</label><div class=\"sk-toggleable__content\"><pre>RandomForestClassifier(random_state=42)</pre></div></div></div><div class=\"sk-serial\"><div class=\"sk-item\"><div class=\"sk-estimator sk-toggleable\"><input class=\"sk-toggleable__control sk-hidden--visually\" id=\"sk-estimator-id-9\" type=\"checkbox\" ><label for=\"sk-estimator-id-9\" class=\"sk-toggleable__label sk-toggleable__label-arrow\">RandomForestClassifier</label><div class=\"sk-toggleable__content\"><pre>RandomForestClassifier(random_state=42)</pre></div></div></div></div></div></div></div></div></div></div>"
      ],
      "text/plain": [
       "GridSearchCV(cv=10, estimator=RandomForestClassifier(random_state=42),\n",
       "             param_grid={'criterion': ['gini', 'entropy'],\n",
       "                         'max_depth': [5, 50, 75, 100],\n",
       "                         'min_samples_split': [12, 16, 20]},\n",
       "             scoring='accuracy')"
      ]
     },
     "execution_count": 25,
     "metadata": {},
     "output_type": "execute_result"
    }
   ],
   "source": [
    "# grid search\n",
    "\n",
    "from sklearn.model_selection import GridSearchCV\n",
    "\n",
    "# param_grid = {\n",
    "#     # 'bootstrap': [True],\n",
    "#     'max_depth': [70, 80, 90, 100],\n",
    "#     # 'max_features': [2, 3],\n",
    "#     'min_samples_leaf': [1, 2, 3],\n",
    "#     # 'min_samples_split': [5, 10, 15],\n",
    "#     'n_estimators': [1600, 1800, 2000]\n",
    "# }\n",
    "# rf = RandomForestClassifier(random_state = 42)\n",
    "# grid_search = GridSearchCV(estimator = rf, param_grid = param_grid, cv = 3, n_jobs = 2, verbose = 2)\n",
    "# grid_search.fit(X_train_vec, y_train)\n",
    "\n",
    "# print(grid_search.best_params_)\n",
    "\n",
    "rf = RandomForestClassifier(random_state=42)\n",
    "grid_rf = {\n",
    "    \"max_depth\": [5, 50, 75, 100],\n",
    "    'min_samples_split': [12, 16, 20],\n",
    "    'criterion': ['gini', 'entropy']\n",
    "}\n",
    "rf_grid = GridSearchCV(estimator = rf,      # model\n",
    "                   param_grid = grid_rf,   # hyperparameters\n",
    "                   scoring='accuracy',        # metric for scoring\n",
    "                   cv=10)                     # number of folds\n",
    "rf_grid.fit(X_train, y_train)"
   ]
  },
  {
   "cell_type": "code",
   "execution_count": 26,
   "metadata": {},
   "outputs": [
    {
     "name": "stdout",
     "output_type": "stream",
     "text": [
      "Best combination of hyperparams:\n",
      " {'criterion': 'entropy', 'max_depth': 50, 'min_samples_split': 20} \n",
      "\n",
      "Best mean_test_score score:\n",
      " 0.6807227638830013 \n",
      "\n",
      "Score by fold for best estimator:\n",
      " [0.6795252225519288, 0.6884272997032641, 0.6824925816023739, 0.6824925816023739, 0.6824925816023739, 0.6676557863501483, 0.6884272997032641, 0.6845238095238095, 0.6726190476190477, 0.6785714285714286] \n",
      "\n"
     ]
    }
   ],
   "source": [
    "report_GridSearchCV_results(rf_grid)"
   ]
  },
  {
   "cell_type": "code",
   "execution_count": 27,
   "metadata": {},
   "outputs": [
    {
     "name": "stdout",
     "output_type": "stream",
     "text": [
      "              precision    recall  f1-score   support\n",
      "\n",
      "           0       0.68      0.95      0.79       959\n",
      "           1       0.50      0.11      0.17       484\n",
      "\n",
      "    accuracy                           0.67      1443\n",
      "   macro avg       0.59      0.53      0.48      1443\n",
      "weighted avg       0.62      0.67      0.58      1443\n",
      "\n"
     ]
    },
    {
     "data": {
      "image/png": "[encoded data removed]",
      "text/plain": [
       "<Figure size 640x480 with 2 Axes>"
      ]
     },
     "metadata": {},
     "output_type": "display_data"
    }
   ],
   "source": [
    "# performance on test set\n",
    "score_model(rf_grid, X_test, y_test)"
   ]
  },
  {
   "cell_type": "markdown",
   "metadata": {},
   "source": [
    "#### Feature selection (SelectKBest) / Dimensionality reduction (PCA)"
   ]
  },
  {
   "cell_type": "markdown",
   "metadata": {},
   "source": [
    "Select K best"
   ]
  },
  {
   "cell_type": "code",
   "execution_count": 28,
   "metadata": {},
   "outputs": [
    {
     "name": "stdout",
     "output_type": "stream",
     "text": [
      "              precision    recall  f1-score   support\n",
      "\n",
      "           0       1.00      1.00      1.00      2236\n",
      "           1       1.00      1.00      1.00      1131\n",
      "\n",
      "    accuracy                           1.00      3367\n",
      "   macro avg       1.00      1.00      1.00      3367\n",
      "weighted avg       1.00      1.00      1.00      3367\n",
      "\n",
      "              precision    recall  f1-score   support\n",
      "\n",
      "           0       0.70      0.88      0.78       959\n",
      "           1       0.52      0.26      0.34       484\n",
      "\n",
      "    accuracy                           0.67      1443\n",
      "   macro avg       0.61      0.57      0.56      1443\n",
      "weighted avg       0.64      0.67      0.63      1443\n",
      "\n"
     ]
    }
   ],
   "source": [
    "from sklearn.feature_selection import SelectKBest\n",
    "from sklearn.feature_selection import f_classif\n",
    "from sklearn.feature_selection import chi2\n",
    "from sklearn.feature_selection import mutual_info_classif\n",
    "from sklearn.pipeline import make_pipeline\n",
    "\n",
    "k = 350\n",
    "\n",
    "model_with_selection = make_pipeline(\n",
    "    SelectKBest(score_func=f_classif, k=k),\n",
    "    RandomForestClassifier(random_state = 42),\n",
    ")\n",
    "\n",
    "model_with_selection.fit(X_train, y_train)\n",
    "\n",
    "\n",
    "train_pred = model_with_selection.predict(X_train)\n",
    "print(classification_report(y_train,train_pred))\n",
    "\n",
    "test_pred = model_with_selection.predict(X_test)\n",
    "print(classification_report(y_test,test_pred))"
   ]
  },
  {
   "cell_type": "markdown",
   "metadata": {},
   "source": [
    "PCA"
   ]
  },
  {
   "cell_type": "code",
   "execution_count": 29,
   "metadata": {},
   "outputs": [
    {
     "name": "stdout",
     "output_type": "stream",
     "text": [
      "1\n",
      "              precision    recall  f1-score   support\n",
      "\n",
      "           0       1.00      1.00      1.00      2236\n",
      "           1       1.00      1.00      1.00      1131\n",
      "\n",
      "    accuracy                           1.00      3367\n",
      "   macro avg       1.00      1.00      1.00      3367\n",
      "weighted avg       1.00      1.00      1.00      3367\n",
      "\n",
      "              precision    recall  f1-score   support\n",
      "\n",
      "           0       0.66      0.67      0.67       959\n",
      "           1       0.33      0.32      0.33       484\n",
      "\n",
      "    accuracy                           0.55      1443\n",
      "   macro avg       0.50      0.50      0.50      1443\n",
      "weighted avg       0.55      0.55      0.55      1443\n",
      "\n"
     ]
    }
   ],
   "source": [
    "from sklearn.decomposition import PCA\n",
    "from sklearn.ensemble import RandomForestClassifier\n",
    "\n",
    "pca = PCA()\n",
    "pca.fit(X_train)\n",
    "cumsum = np.cumsum(pca.explained_variance_ratio_)\n",
    "\n",
    "d = np.argmax(cumsum >= 0.95) + 1\n",
    "print(d)\n",
    "\n",
    "pca = PCA(n_components=d)\n",
    "train_features = pca.fit_transform(X_train)\n",
    "test_features = pca.transform(X_test)\n",
    "\n",
    "# lin_clf = LinearSVC(random_state = 42)\n",
    "# lin_clf.fit(train_features, y_train)\n",
    "\n",
    "# train_pred = lin_clf.predict(train_features)\n",
    "# print(lin_clf.score(train_features, y_train))\n",
    "# test_pred = lin_clf.predict(test_features)\n",
    "# print(lin_clf.score(test_features, y_test))\n",
    "\n",
    "rfr = RandomForestClassifier(random_state = 42)\n",
    "rfr.fit(train_features, y_train)\n",
    "\n",
    "train_pred = rfr.predict(train_features)\n",
    "print(classification_report(y_train,train_pred))\n",
    "test_pred = rfr.predict(test_features)\n",
    "print(classification_report(y_test,test_pred))"
   ]
  },
  {
   "cell_type": "markdown",
   "metadata": {},
   "source": [
    "#### Trying other classifiers"
   ]
  },
  {
   "cell_type": "markdown",
   "metadata": {},
   "source": [
    "Gradient boosting"
   ]
  },
  {
   "cell_type": "code",
   "execution_count": 30,
   "metadata": {},
   "outputs": [
    {
     "name": "stdout",
     "output_type": "stream",
     "text": [
      "0.8431838431838432\n",
      "0.6611226611226612\n"
     ]
    }
   ],
   "source": [
    "from sklearn.ensemble import GradientBoostingClassifier\n",
    "\n",
    "# gbc=GradientBoostingClassifier(random_state = 42)\n",
    "gbc = GradientBoostingClassifier(n_estimators = 300, learning_rate = 0.1,random_state = 42) # max_features=5\n",
    "\n",
    "gbc.fit(X_train, y_train)\n",
    "\n",
    "print(gbc.score(X_train, y_train))\n",
    "print(gbc.score(X_test, y_test))"
   ]
  },
  {
   "cell_type": "code",
   "execution_count": 31,
   "metadata": {},
   "outputs": [
    {
     "name": "stdout",
     "output_type": "stream",
     "text": [
      "Best Hyperparameters: {'n_estimators': 100, 'learning_rate': 0.05}\n",
      "Best Score: 0.67240976101172\n"
     ]
    }
   ],
   "source": [
    "# randomised search for GB\n",
    "\n",
    "params = {'learning_rate':[0.01,0.05,0.1],\n",
    "'n_estimators':np.arange(100,500,100)}\n",
    "\n",
    "search = RandomizedSearchCV(GradientBoostingClassifier(random_state=42), params, random_state=42, cv=3)\n",
    "\n",
    "gb_rand_search = search.fit(X_train, y_train)\n",
    "print('Best Hyperparameters: %s' % gb_rand_search.best_params_)\n",
    "print('Best Score: %s' % gb_rand_search.best_score_)"
   ]
  },
  {
   "cell_type": "markdown",
   "metadata": {},
   "source": [
    "Linear SVC"
   ]
  },
  {
   "cell_type": "code",
   "execution_count": 32,
   "metadata": {},
   "outputs": [
    {
     "name": "stdout",
     "output_type": "stream",
     "text": [
      "0.36382536382536385\n",
      "0.35343035343035345\n"
     ]
    }
   ],
   "source": [
    "# from sklearn.svm import SVC\n",
    "from sklearn.svm import LinearSVC\n",
    "\n",
    "lin_clf = LinearSVC(random_state = 42)\n",
    "lin_clf.fit(X_train, y_train)\n",
    "\n",
    "print(lin_clf.score(X_train, y_train))\n",
    "print(lin_clf.score(X_test, y_test))"
   ]
  },
  {
   "cell_type": "code",
   "execution_count": 33,
   "metadata": {},
   "outputs": [
    {
     "name": "stdout",
     "output_type": "stream",
     "text": [
      "Best Hyperparameters: {'penalty': 'l2', 'C': 0.01}\n",
      "Best Score: 0.6640926048500297\n"
     ]
    }
   ],
   "source": [
    "# randomised search for linear SVC\n",
    "\n",
    "params = {'C': [0.01, 0.1, 1, 10, 20, 30],\n",
    "'penalty':['l1', 'l2']}\n",
    "\n",
    "search = RandomizedSearchCV(LinearSVC(random_state = 42), params, random_state=42, cv=3)\n",
    "\n",
    "rand_search = search.fit(X_train, y_train)\n",
    "print('Best Hyperparameters: %s' % rand_search.best_params_)\n",
    "print('Best Score: %s' % rand_search.best_score_)"
   ]
  },
  {
   "cell_type": "markdown",
   "metadata": {},
   "source": [
    "Logistic regression"
   ]
  },
  {
   "cell_type": "code",
   "execution_count": 34,
   "metadata": {},
   "outputs": [
    {
     "name": "stdout",
     "output_type": "stream",
     "text": [
      "0.6816156816156816\n",
      "0.659043659043659\n"
     ]
    }
   ],
   "source": [
    "from sklearn.linear_model import LogisticRegression\n",
    "\n",
    "log_reg = LogisticRegression()\n",
    "log_reg.fit(X_train, y_train)\n",
    "\n",
    "print(log_reg.score(X_train, y_train))\n",
    "print(log_reg.score(X_test, y_test))"
   ]
  },
  {
   "cell_type": "markdown",
   "metadata": {},
   "source": [
    "K neighbours"
   ]
  },
  {
   "cell_type": "code",
   "execution_count": 35,
   "metadata": {},
   "outputs": [
    {
     "name": "stdout",
     "output_type": "stream",
     "text": [
      "0.7258687258687259\n",
      "0.6036036036036037\n"
     ]
    }
   ],
   "source": [
    "# try K neighbours\n",
    "\n",
    "from sklearn.neighbors import KNeighborsClassifier\n",
    "\n",
    "knc = KNeighborsClassifier()\n",
    "knc.fit(X_train, y_train)\n",
    "\n",
    "print(knc.score(X_train, y_train))\n",
    "print(knc.score(X_test, y_test))"
   ]
  },
  {
   "cell_type": "code",
   "execution_count": 36,
   "metadata": {},
   "outputs": [
    {
     "name": "stdout",
     "output_type": "stream",
     "text": [
      "Best Hyperparameters: {'n_neighbors': 50}\n",
      "Best Score: 0.6528032406194891\n"
     ]
    }
   ],
   "source": [
    "# randomised search for kn\n",
    "\n",
    "params = {'n_neighbors': [1, 5, 10, 20, 30, 40, 50]}\n",
    "\n",
    "knc_search = RandomizedSearchCV(KNeighborsClassifier(), params, random_state=42, cv=3)\n",
    "\n",
    "knc_rand_search = knc_search.fit(X_train, y_train)\n",
    "print('Best Hyperparameters: %s' % knc_rand_search.best_params_)\n",
    "print('Best Score: %s' % knc_rand_search.best_score_)"
   ]
  }
 ],
 "metadata": {
  "colab": {
   "provenance": []
  },
  "kernelspec": {
   "display_name": "Python 3.9.5 64-bit",
   "language": "python",
   "name": "python3"
  },
  "language_info": {
   "codemirror_mode": {
    "name": "ipython",
    "version": 3
   },
   "file_extension": ".py",
   "mimetype": "text/x-python",
   "name": "python",
   "nbconvert_exporter": "python",
   "pygments_lexer": "ipython3",
   "version": "3.9.5"
  },
  "vscode": {
   "interpreter": {
    "hash": "81794d4967e6c3204c66dcd87b604927b115b27c00565d3d43f05ba2f3a2cb0d"
   }
  }
 },
 "nbformat": 4,
 "nbformat_minor": 1
}
